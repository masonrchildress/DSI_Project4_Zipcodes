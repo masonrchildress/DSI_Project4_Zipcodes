{
 "cells": [
  {
   "cell_type": "markdown",
   "metadata": {},
   "source": [
    "# Project 4 - The Client Project \n",
    "\n",
    "---\n",
    "\n",
    "The ***objective*** of the client project is to ***use zipcodes to proxy home values and loss in event of disaster***. Our project consists of building a tool to return housing and population metrics in a given zipcode.  The user will feed the code with a comma delimited list of affected areas (zip codes, can be int or str format) as input, and retrieve the current property values.  \n",
    "\n",
    "## Executive Summary\n",
    "---\n",
    "\n",
    "\n",
    "## Interesting Packages Used\n",
    "---\n",
    "For this project we leveraged the Python packages [folium](https://pypi.org/project/folium/) to create our tool and [uszipcode](https://pypi.org/project/uszipcode/) as our source of demographic information. Inputting any number of zipcodes into our tool returns interactive icons at the zipcode's location and displays relevant demographic information.\n",
    "\n",
    "\n",
    "## Data Information\n",
    "---\n",
    "For the home value data, we used the [Zillow Research](https://www.zillow.com/research/data/) page to download flat files of ***Median Home Values by Top and Bottom Tiers***.  The tier system in Zillow is divided into thirds given a ***geography*** parameter that allowed us to pull data on the zipcode level.\n",
    "\n",
    "Additionally, the Python package [uszipcode](https://pypi.org/project/uszipcode/) has datasets that returned high level metrics given a zip.  We used that data to create a dataframe that gets passed into the our display tool.\n",
    "\n",
    "### Limitations to Data\n",
    "Due to usage of Zillow Research data and the specificity of top and bottom tier information given a zipcode.  The number of zipcodes available to use that had populated values across top, bottom, overall tables were approximately 5k, 2.8k, and 10k respectively.  \n",
    "\n",
    "### Data Dictionary of Data Set Used for Tool\n",
    "\n",
    "|Column Name | Data Type | Brief Description |\n",
    "|---|---|---|\n",
    "\n",
    "## How to Navigate Files and Folders\n",
    "---\n",
    "1. ***Code*** Folder, N Files, Organized with _NB suffix\n",
    "  * NB1 contains code to scrape subreddit data\n",
    "<br><br>\n",
    "\n",
    "2. ***Data*** Folder\n",
    "3. ***Raw_data_files*** Folder\n",
    "4. ***zipcode*** Folder\n"
   ]
  },
  {
   "cell_type": "code",
   "execution_count": null,
   "metadata": {},
   "outputs": [],
   "source": []
  }
 ],
 "metadata": {
  "kernelspec": {
   "display_name": "Python 3",
   "language": "python",
   "name": "python3"
  },
  "language_info": {
   "codemirror_mode": {
    "name": "ipython",
    "version": 3
   },
   "file_extension": ".py",
   "mimetype": "text/x-python",
   "name": "python",
   "nbconvert_exporter": "python",
   "pygments_lexer": "ipython3",
   "version": "3.6.7"
  }
 },
 "nbformat": 4,
 "nbformat_minor": 2
}
